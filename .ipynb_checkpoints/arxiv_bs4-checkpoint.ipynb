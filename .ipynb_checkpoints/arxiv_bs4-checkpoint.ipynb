{
 "cells": [
  {
   "cell_type": "code",
   "execution_count": null,
   "id": "0938887e-f367-4276-8995-71cab00b7d06",
   "metadata": {},
   "outputs": [],
   "source": [
    "import requests\n",
    "from bs4 import BeautifulSoup\n",
    "import csv\n",
    "import re\n",
    "from datetime import datetime\n",
    "\n",
    "url = input(\"请输入url：\")\n",
    "headers = {\n",
    "    'Cookie':'arxiv_labs={%22sameSite%22:%22strict%22%2C%22expires%22:365}; browser=43.224.245.241.1729779029250714; arxiv-search-parameters=\"{\\\"order\\\": \\\"-announced_date_first\\\"\\054 \\\"size\\\": \\\"50\\\"\\054 \\\"abstracts\\\": \\\"show\\\"\\054 \\\"date-date_type\\\": \\\"announced_date_first\\\"}\"',\n",
    "    'User-Agent':'Mozilla/5.0 (Windows NT 10.0; Win64; x64) AppleWebKit/537.36 (KHTML, like Gecko) Chrome/127.0.0.0 Safari/537.36'\n",
    "}\n",
    "\n",
    "result = requests.get(url = url, headers = headers).content\n",
    "\n",
    "soup = BeautifulSoup(result, 'html.parser')"
   ]
  },
  {
   "cell_type": "code",
   "execution_count": 131,
   "id": "cd44ab85-2173-4396-bb32-925ee4271033",
   "metadata": {},
   "outputs": [],
   "source": [
    "arxiv_results = soup.find_all('li', class_='arxiv-result')\n",
    "\n",
    "# 定义一个Paper类\n",
    "class Paper:\n",
    "    def __init__(self, url, title, first_submitted_date, subject, author, abstract):\n",
    "        self.url = url\n",
    "        self.title = title\n",
    "        self.first_submitted_date = first_submitted_date\n",
    "        self.subject = subject\n",
    "        self.author = author\n",
    "        self.abstract = abstract"
   ]
  },
  {
   "cell_type": "code",
   "execution_count": 132,
   "id": "7ba53b51-d972-4cad-a976-be0cdfea10ff",
   "metadata": {},
   "outputs": [],
   "source": [
    "# 创建一个列表，存放信息\n",
    "papers = []\n",
    "\n",
    "# 在result中遍历所有结果\n",
    "for result in arxiv_results:\n",
    "   \n",
    "    # 提取论文标题\n",
    "    paper_title = result.find(\"p\", class_=\"title is-5 mathjax\").get_text(strip=True)\n",
    "\n",
    "    # 提取论文链接\n",
    "    paper_url = result.find(\"p\", class_=\"list-title is-inline-block\").find(\"a\").get(\"href\")\n",
    "\n",
    "    # 仅提取了第一个论文标签\n",
    "    paper_subject = result.find(\"div\",class_=\"tags is-inline-block\").find(\"span\").get(\"data-tooltip\")\n",
    "\n",
    "    # 提取论文作者，从authors后切片\n",
    "    paper_author = result.find(\"p\", class_=\"authors\").get_text(strip=True)[8:] \n",
    "\n",
    "    # 提取摘要，去掉摘要尾部的\"△ Less\"\n",
    "    paper_abstrct= result.find(\"p\",class_=\"abstract mathjax\").get_text(strip=True).replace(\"△ Less\",\"\")\n",
    "\n",
    "    # 提取论文提交日期，并将其转换为标准格式\"YY-MM-DD\"\n",
    "    paper_date = result.find(\"p\", class_=\"is-size-7\").get_text(strip=True) if result.find(\"p\", class_=\"is-size-7\") else \"No date\"\n",
    "    import re\n",
    "    from datetime import datetime\n",
    "    if \"v1\" in paper_date:\n",
    "        # Submitted9 August, 2024; v1submitted 8 August, 2024; originally announced August 2024.\n",
    "        # 注意空格会被吞掉，这里我们要找最早的提交日期\n",
    "        v1 = paper_date.find(\"v1submitted\")\n",
    "        paper_date = paper_date[v1 + 12: paper_date.find(\";\", v1)]\n",
    "    else:\n",
    "        # Submitted8 August, 2024; originally announced August 2024.\n",
    "        # 注意空格会被吞掉\n",
    "        submit_date = paper_date.find(\"Submitted\")\n",
    "        paper_date = paper_date[submit_date + 9: paper_date.find(\";\", submit_date)]\n",
    "    \n",
    "    date = datetime.strptime(paper_date, \"%d %B, %Y\")\n",
    "    # 格式化日期为字符串并打印\n",
    "    formatted_date = date.strftime(\"%Y-%m-%d\")\n",
    "    \n",
    "    # 创建Paper对象并添加到列表中\n",
    "    papers.append(\n",
    "        Paper(\n",
    "            url=paper_url,\n",
    "            title=paper_title,\n",
    "            first_submitted_date=formatted_date,\n",
    "            subject=paper_subject,\n",
    "            author=paper_author,\n",
    "            abstract=paper_abstrct,\n",
    "        )\n",
    "    )"
   ]
  },
  {
   "cell_type": "code",
   "execution_count": 143,
   "id": "011bc290-003c-4cf5-bf3b-81ab60057f9f",
   "metadata": {},
   "outputs": [],
   "source": [
    "# 创建一个列表存放论文信息\n",
    "csv_list = []\n",
    "for paper in papers:\n",
    "    paper_info = paper.__dict__\n",
    "    csv_list.append(paper_info)"
   ]
  },
  {
   "cell_type": "code",
   "execution_count": 149,
   "id": "50ee03b3-094f-4722-b6d7-c4d0e5d9bbb6",
   "metadata": {},
   "outputs": [
    {
     "name": "stdout",
     "output_type": "stream",
     "text": [
      "已保存到 arxiv论文_20241124_001937.csv\n"
     ]
    }
   ],
   "source": [
    "# 创建一个csv文件,设置文件名前缀和格式\n",
    "current_time = datetime.now().strftime('%Y%m%d_%H%M%S')\n",
    "file_prefix = 'arxiv论文_'\n",
    "file_format = file_prefix + current_time + '.csv'\n",
    "\n",
    "# 定义CSV文件的字段名（列名）\n",
    "fieldnames = [\"title\", \"author\", \"subject\", \"abstract\",\"first_submitted_date\",\"url\"]\n",
    "\n",
    "with open(file_format, mode='w', newline='', encoding='utf-8-sig') as file:\n",
    "    writer = csv.DictWriter(file, fieldnames=fieldnames)\n",
    "    \n",
    "    # 写入表头\n",
    "    writer.writeheader()\n",
    "    \n",
    "    # 写入数据行\n",
    "    for row in csv_list:\n",
    "        writer.writerow(row)\n",
    "\n",
    "print(\"已保存到\",file_format)"
   ]
  }
 ],
 "metadata": {
  "kernelspec": {
   "display_name": "Python 3 (ipykernel)",
   "language": "python",
   "name": "python3"
  },
  "language_info": {
   "codemirror_mode": {
    "name": "ipython",
    "version": 3
   },
   "file_extension": ".py",
   "mimetype": "text/x-python",
   "name": "python",
   "nbconvert_exporter": "python",
   "pygments_lexer": "ipython3",
   "version": "3.10.2"
  }
 },
 "nbformat": 4,
 "nbformat_minor": 5
}
